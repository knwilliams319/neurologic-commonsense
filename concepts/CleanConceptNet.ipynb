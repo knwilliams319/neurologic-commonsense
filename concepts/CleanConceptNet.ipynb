{
 "cells": [
  {
   "attachments": {},
   "cell_type": "markdown",
   "metadata": {},
   "source": [
    "# Clean Concept Net\n",
    "**Last Updated By:** Kyle Williams <br>\n",
    "**Last Updated On:** 5/26/2023"
   ]
  },
  {
   "attachments": {},
   "cell_type": "markdown",
   "metadata": {},
   "source": [
    "**Motivation:** ConceptNet makes available a [pre-built list](https://github.com/commonsense/conceptnet5/wiki/Downloads) of all the edges in ConceptNet 5.7 in a tab-separated text file. This file is much too large (10.7 GB!) to store on disk. This code in this Notebook attempts to filter the ConceptNet csv file to contain only the edges we need, and reduce any unnecessary columns. "
   ]
  },
  {
   "cell_type": "code",
   "execution_count": 1,
   "metadata": {},
   "outputs": [],
   "source": [
    "'''\n",
    "Necessary Imports\n",
    "'''\n",
    "import dask.dataframe as dd\n",
    "import numpy as np\n",
    "import pandas as pd\n",
    "import json"
   ]
  },
  {
   "cell_type": "code",
   "execution_count": 2,
   "metadata": {},
   "outputs": [
    {
     "data": {
      "text/html": [
       "<div>\n",
       "<style scoped>\n",
       "    .dataframe tbody tr th:only-of-type {\n",
       "        vertical-align: middle;\n",
       "    }\n",
       "\n",
       "    .dataframe tbody tr th {\n",
       "        vertical-align: top;\n",
       "    }\n",
       "\n",
       "    .dataframe thead th {\n",
       "        text-align: right;\n",
       "    }\n",
       "</style>\n",
       "<table border=\"1\" class=\"dataframe\">\n",
       "  <thead>\n",
       "    <tr style=\"text-align: right;\">\n",
       "      <th></th>\n",
       "      <th>uri</th>\n",
       "      <th>rltn</th>\n",
       "      <th>src</th>\n",
       "      <th>dst</th>\n",
       "      <th>json</th>\n",
       "    </tr>\n",
       "  </thead>\n",
       "  <tbody>\n",
       "    <tr>\n",
       "      <th>0</th>\n",
       "      <td>/a/[/r/Antonym/,/c/adx/thəχ_kwo/a/,/c/adx/ʂap_...</td>\n",
       "      <td>/r/Antonym</td>\n",
       "      <td>/c/adx/thəχ_kwo/a</td>\n",
       "      <td>/c/adx/ʂap_wə</td>\n",
       "      <td>{\"dataset\": \"/d/wiktionary/fr\", \"license\": \"cc...</td>\n",
       "    </tr>\n",
       "    <tr>\n",
       "      <th>1</th>\n",
       "      <td>/a/[/r/Antonym/,/c/adx/tok_po/a/,/c/adx/ʂa_wə/]</td>\n",
       "      <td>/r/Antonym</td>\n",
       "      <td>/c/adx/tok_po/a</td>\n",
       "      <td>/c/adx/ʂa_wə</td>\n",
       "      <td>{\"dataset\": \"/d/wiktionary/fr\", \"license\": \"cc...</td>\n",
       "    </tr>\n",
       "    <tr>\n",
       "      <th>2</th>\n",
       "      <td>/a/[/r/Antonym/,/c/adx/ʂa_wə/a/,/c/adx/tok_po/]</td>\n",
       "      <td>/r/Antonym</td>\n",
       "      <td>/c/adx/ʂa_wə/a</td>\n",
       "      <td>/c/adx/tok_po</td>\n",
       "      <td>{\"dataset\": \"/d/wiktionary/fr\", \"license\": \"cc...</td>\n",
       "    </tr>\n",
       "    <tr>\n",
       "      <th>3</th>\n",
       "      <td>/a/[/r/Antonym/,/c/adx/ʂap_wə/a/,/c/adx/thəχ_k...</td>\n",
       "      <td>/r/Antonym</td>\n",
       "      <td>/c/adx/ʂap_wə/a</td>\n",
       "      <td>/c/adx/thəχ_kwo</td>\n",
       "      <td>{\"dataset\": \"/d/wiktionary/fr\", \"license\": \"cc...</td>\n",
       "    </tr>\n",
       "    <tr>\n",
       "      <th>4</th>\n",
       "      <td>/a/[/r/Antonym/,/c/ae/𐬨𐬀𐬰𐬛𐬀𐬌𐬌𐬀𐬯𐬥𐬀/n/,/c/ae/𐬛𐬀𐬉...</td>\n",
       "      <td>/r/Antonym</td>\n",
       "      <td>/c/ae/𐬨𐬀𐬰𐬛𐬀𐬌𐬌𐬀𐬯𐬥𐬀/n</td>\n",
       "      <td>/c/ae/𐬛𐬀𐬉𐬎𐬎𐬀𐬌𐬌𐬀𐬯𐬥𐬀</td>\n",
       "      <td>{\"dataset\": \"/d/wiktionary/en\", \"license\": \"cc...</td>\n",
       "    </tr>\n",
       "  </tbody>\n",
       "</table>\n",
       "</div>"
      ],
      "text/plain": [
       "                                                 uri        rltn  \\\n",
       "0  /a/[/r/Antonym/,/c/adx/thəχ_kwo/a/,/c/adx/ʂap_...  /r/Antonym   \n",
       "1    /a/[/r/Antonym/,/c/adx/tok_po/a/,/c/adx/ʂa_wə/]  /r/Antonym   \n",
       "2    /a/[/r/Antonym/,/c/adx/ʂa_wə/a/,/c/adx/tok_po/]  /r/Antonym   \n",
       "3  /a/[/r/Antonym/,/c/adx/ʂap_wə/a/,/c/adx/thəχ_k...  /r/Antonym   \n",
       "4  /a/[/r/Antonym/,/c/ae/𐬨𐬀𐬰𐬛𐬀𐬌𐬌𐬀𐬯𐬥𐬀/n/,/c/ae/𐬛𐬀𐬉...  /r/Antonym   \n",
       "\n",
       "                   src                 dst  \\\n",
       "0    /c/adx/thəχ_kwo/a       /c/adx/ʂap_wə   \n",
       "1      /c/adx/tok_po/a        /c/adx/ʂa_wə   \n",
       "2       /c/adx/ʂa_wə/a       /c/adx/tok_po   \n",
       "3      /c/adx/ʂap_wə/a     /c/adx/thəχ_kwo   \n",
       "4  /c/ae/𐬨𐬀𐬰𐬛𐬀𐬌𐬌𐬀𐬯𐬥𐬀/n  /c/ae/𐬛𐬀𐬉𐬎𐬎𐬀𐬌𐬌𐬀𐬯𐬥𐬀   \n",
       "\n",
       "                                                json  \n",
       "0  {\"dataset\": \"/d/wiktionary/fr\", \"license\": \"cc...  \n",
       "1  {\"dataset\": \"/d/wiktionary/fr\", \"license\": \"cc...  \n",
       "2  {\"dataset\": \"/d/wiktionary/fr\", \"license\": \"cc...  \n",
       "3  {\"dataset\": \"/d/wiktionary/fr\", \"license\": \"cc...  \n",
       "4  {\"dataset\": \"/d/wiktionary/en\", \"license\": \"cc...  "
      ]
     },
     "execution_count": 2,
     "metadata": {},
     "output_type": "execute_result"
    }
   ],
   "source": [
    "'''\n",
    "Load the DataFrame\n",
    "\n",
    "The five fields of each line are:\n",
    "The URI of the whole edge\n",
    "The relation expressed by the edge\n",
    "The node at the start of the edge\n",
    "The node at the end of the edge\n",
    "A JSON structure of additional information about the edge, such as its weight\n",
    "'''\n",
    "edges_df = dd.read_csv('conceptnet-assertions-5.7.0.csv', delimiter='\\t')\n",
    "edges_df.columns = ['uri', 'rltn', 'src', 'dst', 'json']\n",
    "edges_df.head()"
   ]
  },
  {
   "cell_type": "code",
   "execution_count": 3,
   "metadata": {},
   "outputs": [],
   "source": [
    "'''\n",
    "Filter out edges containing non-english source nodes\n",
    "'''\n",
    "edges_df = edges_df.loc[edges_df.src.str.startswith(\"/c/en\")]"
   ]
  },
  {
   "cell_type": "code",
   "execution_count": 4,
   "metadata": {},
   "outputs": [],
   "source": [
    "'''\n",
    "Filter out edges containing non-english destination nodes.\n",
    "'''\n",
    "edges_df = edges_df.loc[edges_df.dst.str.startswith(\"/c/en\")].compute()"
   ]
  },
  {
   "cell_type": "code",
   "execution_count": 5,
   "metadata": {},
   "outputs": [],
   "source": [
    "'''\n",
    "Save our progress so I can remove the original, super large file and continue working\n",
    "'''\n",
    "edges_df.to_csv('conceptnet-english-edges-5.7.csv', index=False, sep='\\t')"
   ]
  },
  {
   "cell_type": "code",
   "execution_count": 29,
   "metadata": {},
   "outputs": [
    {
     "data": {
      "text/html": [
       "<div>\n",
       "<style scoped>\n",
       "    .dataframe tbody tr th:only-of-type {\n",
       "        vertical-align: middle;\n",
       "    }\n",
       "\n",
       "    .dataframe tbody tr th {\n",
       "        vertical-align: top;\n",
       "    }\n",
       "\n",
       "    .dataframe thead th {\n",
       "        text-align: right;\n",
       "    }\n",
       "</style>\n",
       "<table border=\"1\" class=\"dataframe\">\n",
       "  <thead>\n",
       "    <tr style=\"text-align: right;\">\n",
       "      <th></th>\n",
       "      <th>uri</th>\n",
       "      <th>rltn</th>\n",
       "      <th>src</th>\n",
       "      <th>dst</th>\n",
       "      <th>json</th>\n",
       "    </tr>\n",
       "  </thead>\n",
       "  <tbody>\n",
       "    <tr>\n",
       "      <th>0</th>\n",
       "      <td>/a/[/r/Antonym/,/c/en/0/n/,/c/en/1/]</td>\n",
       "      <td>/r/Antonym</td>\n",
       "      <td>/c/en/0/n</td>\n",
       "      <td>/c/en/1</td>\n",
       "      <td>{\"dataset\": \"/d/wiktionary/fr\", \"license\": \"cc...</td>\n",
       "    </tr>\n",
       "    <tr>\n",
       "      <th>1</th>\n",
       "      <td>/a/[/r/Antonym/,/c/en/12_hour_clock/n/,/c/en/2...</td>\n",
       "      <td>/r/Antonym</td>\n",
       "      <td>/c/en/12_hour_clock/n</td>\n",
       "      <td>/c/en/24_hour_clock</td>\n",
       "      <td>{\"dataset\": \"/d/wiktionary/en\", \"license\": \"cc...</td>\n",
       "    </tr>\n",
       "    <tr>\n",
       "      <th>2</th>\n",
       "      <td>/a/[/r/Antonym/,/c/en/24_hour_clock/n/,/c/en/1...</td>\n",
       "      <td>/r/Antonym</td>\n",
       "      <td>/c/en/24_hour_clock/n</td>\n",
       "      <td>/c/en/12_hour_clock</td>\n",
       "      <td>{\"dataset\": \"/d/wiktionary/en\", \"license\": \"cc...</td>\n",
       "    </tr>\n",
       "    <tr>\n",
       "      <th>3</th>\n",
       "      <td>/a/[/r/Antonym/,/c/en/5/n/,/c/en/3/]</td>\n",
       "      <td>/r/Antonym</td>\n",
       "      <td>/c/en/5/n</td>\n",
       "      <td>/c/en/3</td>\n",
       "      <td>{\"dataset\": \"/d/wiktionary/en\", \"license\": \"cc...</td>\n",
       "    </tr>\n",
       "    <tr>\n",
       "      <th>4</th>\n",
       "      <td>/a/[/r/Antonym/,/c/en/a.c/n/,/c/en/d.c/]</td>\n",
       "      <td>/r/Antonym</td>\n",
       "      <td>/c/en/a.c/n</td>\n",
       "      <td>/c/en/d.c</td>\n",
       "      <td>{\"dataset\": \"/d/wiktionary/fr\", \"license\": \"cc...</td>\n",
       "    </tr>\n",
       "  </tbody>\n",
       "</table>\n",
       "</div>"
      ],
      "text/plain": [
       "                                                 uri        rltn  \\\n",
       "0               /a/[/r/Antonym/,/c/en/0/n/,/c/en/1/]  /r/Antonym   \n",
       "1  /a/[/r/Antonym/,/c/en/12_hour_clock/n/,/c/en/2...  /r/Antonym   \n",
       "2  /a/[/r/Antonym/,/c/en/24_hour_clock/n/,/c/en/1...  /r/Antonym   \n",
       "3               /a/[/r/Antonym/,/c/en/5/n/,/c/en/3/]  /r/Antonym   \n",
       "4           /a/[/r/Antonym/,/c/en/a.c/n/,/c/en/d.c/]  /r/Antonym   \n",
       "\n",
       "                     src                  dst  \\\n",
       "0              /c/en/0/n              /c/en/1   \n",
       "1  /c/en/12_hour_clock/n  /c/en/24_hour_clock   \n",
       "2  /c/en/24_hour_clock/n  /c/en/12_hour_clock   \n",
       "3              /c/en/5/n              /c/en/3   \n",
       "4            /c/en/a.c/n            /c/en/d.c   \n",
       "\n",
       "                                                json  \n",
       "0  {\"dataset\": \"/d/wiktionary/fr\", \"license\": \"cc...  \n",
       "1  {\"dataset\": \"/d/wiktionary/en\", \"license\": \"cc...  \n",
       "2  {\"dataset\": \"/d/wiktionary/en\", \"license\": \"cc...  \n",
       "3  {\"dataset\": \"/d/wiktionary/en\", \"license\": \"cc...  \n",
       "4  {\"dataset\": \"/d/wiktionary/fr\", \"license\": \"cc...  "
      ]
     },
     "execution_count": 29,
     "metadata": {},
     "output_type": "execute_result"
    }
   ],
   "source": [
    "'''\n",
    "Read the file and remove the uri column\n",
    "'''\n",
    "edges_en_df = dd.read_csv('conceptnet-english-edges-5.7.csv', sep='\\t')\n",
    "# edges_en_df = edges_en_df.drop(columns=['uri'])\n",
    "edges_en_df.head()"
   ]
  },
  {
   "cell_type": "code",
   "execution_count": 32,
   "metadata": {},
   "outputs": [
    {
     "data": {
      "text/plain": [
       "1    3474746\n",
       "Name: uri, dtype: int64"
      ]
     },
     "execution_count": 32,
     "metadata": {},
     "output_type": "execute_result"
    }
   ],
   "source": [
    "edge_depths = edges_en_df['uri'].apply(lambda x: x.count(\"/[/\"), meta=('uri', 'int64')).compute()\n",
    "edge_depths.value_counts()"
   ]
  },
  {
   "cell_type": "code",
   "execution_count": 10,
   "metadata": {},
   "outputs": [],
   "source": [
    "'''\n",
    "Remove the text from the paths to the rltn, src, and dst columns to save space\n",
    "'''\n",
    "edges_en_df.rltn = edges_en_df.rltn.apply(lambda x: x.split('/')[-1], meta=('rltn', 'object'))\n",
    "edges_en_df.src = edges_en_df.src.apply(lambda x: x.split('/')[-2], meta=('src', 'object'))\n",
    "edges_en_df.dst = edges_en_df.dst.apply(lambda x: x.split('/')[-1], meta=('dst', 'object'))"
   ]
  },
  {
   "cell_type": "code",
   "execution_count": 88,
   "metadata": {},
   "outputs": [
    {
     "data": {
      "text/html": [
       "<div><strong>Dask DataFrame Structure:</strong></div>\n",
       "<div>\n",
       "<style scoped>\n",
       "    .dataframe tbody tr th:only-of-type {\n",
       "        vertical-align: middle;\n",
       "    }\n",
       "\n",
       "    .dataframe tbody tr th {\n",
       "        vertical-align: top;\n",
       "    }\n",
       "\n",
       "    .dataframe thead th {\n",
       "        text-align: right;\n",
       "    }\n",
       "</style>\n",
       "<table border=\"1\" class=\"dataframe\">\n",
       "  <thead>\n",
       "    <tr style=\"text-align: right;\">\n",
       "      <th></th>\n",
       "      <th>rltn</th>\n",
       "      <th>src</th>\n",
       "      <th>dst</th>\n",
       "      <th>json</th>\n",
       "    </tr>\n",
       "    <tr>\n",
       "      <th>npartitions=13</th>\n",
       "      <th></th>\n",
       "      <th></th>\n",
       "      <th></th>\n",
       "      <th></th>\n",
       "    </tr>\n",
       "  </thead>\n",
       "  <tbody>\n",
       "    <tr>\n",
       "      <th></th>\n",
       "      <td>object</td>\n",
       "      <td>object</td>\n",
       "      <td>object</td>\n",
       "      <td>object</td>\n",
       "    </tr>\n",
       "    <tr>\n",
       "      <th></th>\n",
       "      <td>...</td>\n",
       "      <td>...</td>\n",
       "      <td>...</td>\n",
       "      <td>...</td>\n",
       "    </tr>\n",
       "    <tr>\n",
       "      <th>...</th>\n",
       "      <td>...</td>\n",
       "      <td>...</td>\n",
       "      <td>...</td>\n",
       "      <td>...</td>\n",
       "    </tr>\n",
       "    <tr>\n",
       "      <th></th>\n",
       "      <td>...</td>\n",
       "      <td>...</td>\n",
       "      <td>...</td>\n",
       "      <td>...</td>\n",
       "    </tr>\n",
       "    <tr>\n",
       "      <th></th>\n",
       "      <td>...</td>\n",
       "      <td>...</td>\n",
       "      <td>...</td>\n",
       "      <td>...</td>\n",
       "    </tr>\n",
       "  </tbody>\n",
       "</table>\n",
       "</div>\n",
       "<div>Dask Name: read-csv, 1 graph layer</div>"
      ],
      "text/plain": [
       "Dask DataFrame Structure:\n",
       "                  rltn     src     dst    json\n",
       "npartitions=13                                \n",
       "                object  object  object  object\n",
       "                   ...     ...     ...     ...\n",
       "...                ...     ...     ...     ...\n",
       "                   ...     ...     ...     ...\n",
       "                   ...     ...     ...     ...\n",
       "Dask Name: read-csv, 1 graph layer"
      ]
     },
     "execution_count": 88,
     "metadata": {},
     "output_type": "execute_result"
    }
   ],
   "source": [
    "edges_en_df"
   ]
  },
  {
   "cell_type": "code",
   "execution_count": 93,
   "metadata": {},
   "outputs": [],
   "source": [
    "'''\n",
    "Save the cleaned file to disk. I was having a hard time deserializing the json column, so I'm\n",
    "going to delete it from this and store it elsewhere. The only semi-useful column it has is weight\n",
    "anyways.\n",
    "\n",
    "I am sorting the dataframe and making 'src' it's index as well, since I'm guessing that's how we're most likely\n",
    "going to query this. If we continue to use dask, it can set up index files and other database tricks to keep\n",
    "accesses to this DataFrame fast. Hopefully this means we won't need to clean it too much further. \n",
    "'''\n",
    "edges_en_df = edges_en_df.sort_values(['src', 'dst'], acsending=[True, True])\n",
    "edges_en_df.compute().to_csv('conceptnet-assertions-5.7.0-en.csv', index=False, sep='\\t')"
   ]
  },
  {
   "cell_type": "code",
   "execution_count": 121,
   "metadata": {},
   "outputs": [],
   "source": [
    "edges_en_df = pd.read_csv('conceptnet-assertions-5.7.0-en.csv', sep='\\t')\n",
    "\n",
    "# Filter rows based on alphanumeric characters and underscores\n",
    "pattern = r'^[a-zA-Z0-9_]+$'\n",
    "edges_en_df = edges_en_df[edges_en_df['src'].str.match(pattern)]\n",
    "edges_en_df = edges_en_df[edges_en_df['dst'].str.match(pattern)]\n",
    "\n",
    "# Give a new id column so I can set the index to their tuple for fast indexing\n",
    "edges_en_df['id'] = np.arange(edges_en_df.shape[0])"
   ]
  },
  {
   "cell_type": "code",
   "execution_count": 124,
   "metadata": {},
   "outputs": [],
   "source": [
    "edges_en_df.set_index(['src', 'id']).to_csv('conceptnet-assertions-5.7.0-en.csv', index=True, sep='\\t')"
   ]
  },
  {
   "cell_type": "code",
   "execution_count": 72,
   "metadata": {},
   "outputs": [],
   "source": [
    "edges_out = dd.read_csv('conceptnet-assertions-5.7.0-en-out.csv/0.part', sep=';').set_index('src')\n",
    "edges_in = dd.read_csv('conceptnet-assertions-5.7.0-en-in.csv/0.part', sep=';', dtype={'dst': 'object'}).set_index('dst')\n",
    "\n",
    "edges_in = edges_in.drop(columns=['Unnamed: 0', 'id'])\n",
    "edges_in = edges_in.drop_duplicates()\n",
    "edges_out = edges_out.drop(columns=['Unnamed: 0', 'id'])\n",
    "edges_out = edges_out.drop_duplicates()"
   ]
  },
  {
   "cell_type": "code",
   "execution_count": 74,
   "metadata": {},
   "outputs": [],
   "source": [
    "edges_in = edges_in.loc[edges_in.src != 'en']\n",
    "edges_in = edges_in.loc[edges_in.src != 'wn']\n",
    "edges_in = edges_in.loc[edges_in.src != 'wikt']\n",
    "edges_in = edges_in.loc[edges_in.src != 'a']\n",
    "edges_in = edges_in.loc[edges_in.src != 'wp']\n",
    "edges_in = edges_in.loc[edges_in.src != 'opencyc']\n",
    "edges_in = edges_in.loc[edges_in.src != 'enm']\n",
    "edges_in = edges_in.loc[edges_in.src != 'r']"
   ]
  },
  {
   "cell_type": "code",
   "execution_count": 75,
   "metadata": {},
   "outputs": [],
   "source": [
    "edges_in.compute().to_csv('conceptnet-in-assertions-5.7.0-en.csv', index=True, sep=',')"
   ]
  },
  {
   "cell_type": "code",
   "execution_count": 76,
   "metadata": {},
   "outputs": [],
   "source": [
    "edges_out = edges_out.loc[edges_out.dst != 'en']\n",
    "edges_out = edges_out.loc[edges_out.dst != 'wn']\n",
    "edges_out = edges_out.loc[edges_out.dst != 'wikt']\n",
    "edges_out = edges_out.loc[edges_out.dst != 'a']\n",
    "edges_out = edges_out.loc[edges_out.dst != 'wp']\n",
    "edges_out = edges_out.loc[edges_out.dst != 'opencyc']\n",
    "edges_out = edges_out.loc[edges_out.dst != 'enm']\n",
    "edges_out = edges_out.loc[edges_out.dst != 'r']"
   ]
  },
  {
   "cell_type": "code",
   "execution_count": 77,
   "metadata": {},
   "outputs": [],
   "source": [
    "edges_out.compute().to_csv('conceptnet-out-assertions-5.7.0-en.csv', index=True, sep=',')"
   ]
  },
  {
   "cell_type": "code",
   "execution_count": 62,
   "metadata": {},
   "outputs": [
    {
     "data": {
      "text/html": [
       "<div>\n",
       "<style scoped>\n",
       "    .dataframe tbody tr th:only-of-type {\n",
       "        vertical-align: middle;\n",
       "    }\n",
       "\n",
       "    .dataframe tbody tr th {\n",
       "        vertical-align: top;\n",
       "    }\n",
       "\n",
       "    .dataframe thead th {\n",
       "        text-align: right;\n",
       "    }\n",
       "</style>\n",
       "<table border=\"1\" class=\"dataframe\">\n",
       "  <thead>\n",
       "    <tr style=\"text-align: right;\">\n",
       "      <th></th>\n",
       "      <th>id</th>\n",
       "      <th>rltn</th>\n",
       "      <th>dst</th>\n",
       "    </tr>\n",
       "  </thead>\n",
       "  <tbody>\n",
       "    <tr>\n",
       "      <th>0</th>\n",
       "      <td>0</td>\n",
       "      <td>Antonym</td>\n",
       "      <td>1</td>\n",
       "    </tr>\n",
       "    <tr>\n",
       "      <th>1</th>\n",
       "      <td>1</td>\n",
       "      <td>HasContext</td>\n",
       "      <td>electrical_engineering</td>\n",
       "    </tr>\n",
       "    <tr>\n",
       "      <th>2</th>\n",
       "      <td>2</td>\n",
       "      <td>RelatedTo</td>\n",
       "      <td>low</td>\n",
       "    </tr>\n",
       "    <tr>\n",
       "      <th>3</th>\n",
       "      <td>3</td>\n",
       "      <td>RelatedTo</td>\n",
       "      <td>emergency_service</td>\n",
       "    </tr>\n",
       "    <tr>\n",
       "      <th>4</th>\n",
       "      <td>4</td>\n",
       "      <td>Synonym</td>\n",
       "      <td>james_bond</td>\n",
       "    </tr>\n",
       "  </tbody>\n",
       "</table>\n",
       "</div>"
      ],
      "text/plain": [
       "   id        rltn                     dst\n",
       "0   0     Antonym                       1\n",
       "1   1  HasContext  electrical_engineering\n",
       "2   2   RelatedTo                     low\n",
       "3   3   RelatedTo       emergency_service\n",
       "4   4     Synonym              james_bond"
      ]
     },
     "execution_count": 62,
     "metadata": {},
     "output_type": "execute_result"
    }
   ],
   "source": [
    "dd.read_csv('conceptnet-out-assertions-5.7.0-en.csv', sep=',').head()"
   ]
  },
  {
   "cell_type": "code",
   "execution_count": 81,
   "metadata": {},
   "outputs": [],
   "source": [
    "out = dd.read_csv('conceptnet-out-assertions-5.7.0-en.csv', sep=',').set_index('src')"
   ]
  },
  {
   "cell_type": "code",
   "execution_count": 82,
   "metadata": {},
   "outputs": [
    {
     "data": {
      "text/html": [
       "<div>\n",
       "<style scoped>\n",
       "    .dataframe tbody tr th:only-of-type {\n",
       "        vertical-align: middle;\n",
       "    }\n",
       "\n",
       "    .dataframe tbody tr th {\n",
       "        vertical-align: top;\n",
       "    }\n",
       "\n",
       "    .dataframe thead th {\n",
       "        text-align: right;\n",
       "    }\n",
       "</style>\n",
       "<table border=\"1\" class=\"dataframe\">\n",
       "  <thead>\n",
       "    <tr style=\"text-align: right;\">\n",
       "      <th></th>\n",
       "      <th>rltn</th>\n",
       "      <th>dst</th>\n",
       "    </tr>\n",
       "    <tr>\n",
       "      <th>src</th>\n",
       "      <th></th>\n",
       "      <th></th>\n",
       "    </tr>\n",
       "  </thead>\n",
       "  <tbody>\n",
       "    <tr>\n",
       "      <th>0</th>\n",
       "      <td>Antonym</td>\n",
       "      <td>1</td>\n",
       "    </tr>\n",
       "    <tr>\n",
       "      <th>0</th>\n",
       "      <td>HasContext</td>\n",
       "      <td>electrical_engineering</td>\n",
       "    </tr>\n",
       "    <tr>\n",
       "      <th>0</th>\n",
       "      <td>RelatedTo</td>\n",
       "      <td>low</td>\n",
       "    </tr>\n",
       "    <tr>\n",
       "      <th>000</th>\n",
       "      <td>RelatedTo</td>\n",
       "      <td>emergency_service</td>\n",
       "    </tr>\n",
       "    <tr>\n",
       "      <th>007</th>\n",
       "      <td>Synonym</td>\n",
       "      <td>james_bond</td>\n",
       "    </tr>\n",
       "  </tbody>\n",
       "</table>\n",
       "</div>"
      ],
      "text/plain": [
       "           rltn                     dst\n",
       "src                                    \n",
       "0       Antonym                       1\n",
       "0    HasContext  electrical_engineering\n",
       "0     RelatedTo                     low\n",
       "000   RelatedTo       emergency_service\n",
       "007     Synonym              james_bond"
      ]
     },
     "execution_count": 82,
     "metadata": {},
     "output_type": "execute_result"
    }
   ],
   "source": [
    "out.head()"
   ]
  },
  {
   "cell_type": "code",
   "execution_count": null,
   "metadata": {},
   "outputs": [],
   "source": []
  }
 ],
 "metadata": {
  "kernelspec": {
   "display_name": "sslm",
   "language": "python",
   "name": "python3"
  },
  "language_info": {
   "codemirror_mode": {
    "name": "ipython",
    "version": 3
   },
   "file_extension": ".py",
   "mimetype": "text/x-python",
   "name": "python",
   "nbconvert_exporter": "python",
   "pygments_lexer": "ipython3",
   "version": "3.9.16"
  },
  "orig_nbformat": 4
 },
 "nbformat": 4,
 "nbformat_minor": 2
}
