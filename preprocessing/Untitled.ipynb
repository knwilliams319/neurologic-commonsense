{
 "cells": [
  {
   "cell_type": "code",
   "execution_count": 94,
   "id": "009f83a5-ebc3-4b1e-a311-8dab0ab349b3",
   "metadata": {},
   "outputs": [],
   "source": [
    "import numpy as np\n",
    "import pandas as pd\n",
    "import json\n",
    "\n",
    "import torch\n",
    "from torch.utils.data.dataset import Dataset"
   ]
  },
  {
   "cell_type": "code",
   "execution_count": 86,
   "id": "7960bb67-4726-494b-843d-9b45ab410eca",
   "metadata": {},
   "outputs": [],
   "source": [
    "def apply_json(s):\n",
    "    try:\n",
    "        return json.loads(s.replace(\"\\'\", \"\\\"\"))\n",
    "    except:\n",
    "        return None\n",
    "\n",
    "def apply_answer(answer, lst):\n",
    "    if lst == None:\n",
    "        return None\n",
    "    else:\n",
    "        for item in lst:\n",
    "            if item[\"label\"] == answer:\n",
    "                return item[\"text\"]\n",
    "        return None\n",
    "\n",
    "def process_data(dir:str, path: str):\n",
    "    df = pd.read_csv(dir + path)\n",
    "    \n",
    "    df[\"question.choices\"] = df[\"question.choices\"].apply(apply_json)\n",
    "    \n",
    "    try:\n",
    "        df[\"answer\"] =  df.apply(lambda r: apply_answer(r[\"answerKey\"], r['question.choices']), axis=1)\n",
    "        df = df.drop(columns=['answerKey'])\n",
    "        df = df[df[\"answer\"] != None]\n",
    "    except:\n",
    "        pass\n",
    "\n",
    "    df = df.drop(columns=['Unnamed: 0', 'id', 'question.choices', 'question.question_concept'])\n",
    "    \n",
    "    # save as csv file\n",
    "    df.to_csv(dir + \"refined\" + path)\n",
    "\n",
    "def clean_datafiles():\n",
    "    process_data(\"../data/\", \"DEVsplit.csv\")\n",
    "    process_data(\"../data/\", \"TESTsplit.csv\")\n",
    "    process_data(\"../data/\", \"TRAINsplit.csv\")"
   ]
  },
  {
   "cell_type": "code",
   "execution_count": 92,
   "id": "92d27b9e-e7b5-4563-b23b-5d5b3d49052d",
   "metadata": {},
   "outputs": [
    {
     "data": {
      "text/plain": [
       "1221"
      ]
     },
     "execution_count": 92,
     "metadata": {},
     "output_type": "execute_result"
    }
   ],
   "source": [
    "df.shape[0]"
   ]
  },
  {
   "cell_type": "code",
   "execution_count": 137,
   "id": "387fd8cb-33ff-4706-86be-5f21bba20845",
   "metadata": {},
   "outputs": [],
   "source": [
    "class CommonSenseDataset(Dataset):\n",
    "  def __init__(self, csv_path: str, batch_size: int):\n",
    "    super(CommonSenseDataset, self).__init__()\n",
    "    self.data = pd.read_csv(csv_path)\n",
    "    self._len = self.data.shape[0]\n",
    "    self.batch_size = batch_size\n",
    "    self.device = torch.device(\n",
    "        \"cuda\" if torch.cuda.is_available() else \"cpu\"\n",
    "    )\n",
    "\n",
    "    self.has_answer = False\n",
    "    if \"answer\" in self.data.columns:\n",
    "        self.has_answer = True\n",
    "  \n",
    "  def __len__(self):\n",
    "    return self._len\n",
    "  \n",
    "  def __getitem__(self, i):\n",
    "    batch = self.data[i:i+self.batch_size]\n",
    "    questions = list(batch[\"question.stem\"])\n",
    "    keywords  = list(batch[\"keywords\"])\n",
    "    answers   = list(batch[\"answer\"]) if self.has_answer else []\n",
    "    for index, keyword in enumerate(keywords):\n",
    "        keywords[index] = eval(keyword)\n",
    "\n",
    "    return questions, answers, keywords"
   ]
  },
  {
   "cell_type": "code",
   "execution_count": 138,
   "id": "008f5a16-2727-4351-a5fe-ad6deb4ee672",
   "metadata": {},
   "outputs": [],
   "source": [
    "data = CommonSenseDataset(\"../data/refinedDEVsplit.csv\", 20)"
   ]
  },
  {
   "cell_type": "code",
   "execution_count": 139,
   "id": "c233b3f4-90ff-4365-bd70-923c1b2fd8bc",
   "metadata": {},
   "outputs": [],
   "source": [
    "questions, answer, keywords = data[0]"
   ]
  },
  {
   "cell_type": "code",
   "execution_count": 140,
   "id": "d06dc057-d346-4a0f-88cd-0443f2e72e1e",
   "metadata": {},
   "outputs": [
    {
     "data": {
      "text/plain": [
       "[['door', 'security', 'revolving', 'direction', 'travel'],\n",
       " ['work', 'people', 'aim'],\n",
       " ['magazines', 'printed', 'works'],\n",
       " ['hamburger', 'likely'],\n",
       " ['farmland', 'james', 'place', 'looking', 'look'],\n",
       " ['ferret', 'island', 'country', 'popular'],\n",
       " ['spanish', 'coffee', 'country', 'cup', 'american'],\n",
       " ['animals', 'enemy', 'approaching'],\n",
       " ['reading', 'newspaper', 'practice', 'ways'],\n",
       " ['guitar', 'playing', 'typically', 'people'],\n",
       " ['vinyl', 'replace', 'thing', 'odd'],\n",
       " ['harmony', 'world', 'want', 'try'],\n",
       " ['heifer', 'master', 'live', 'does'],\n",
       " ['nourishment', 'dog', 'water', 'need', 'does'],\n",
       " ['janet', 'film', 'watching', 'liked'],\n",
       " ['reception', 'waiting', 'alongside', 'area'],\n",
       " ['drinking', 'booze', 'busy', 'stay'],\n",
       " ['fencing', 'sword', 'thrust', 'sharp', 'result'],\n",
       " ['sight', 'seers', 'spider', 'people', 'unlike'],\n",
       " ['glue', 'sticks', 'adults', 'use']]"
      ]
     },
     "execution_count": 140,
     "metadata": {},
     "output_type": "execute_result"
    }
   ],
   "source": [
    "keywords"
   ]
  },
  {
   "cell_type": "code",
   "execution_count": null,
   "id": "652d44ca-ea7d-4258-9c69-f4aa291ffcfd",
   "metadata": {},
   "outputs": [],
   "source": []
  }
 ],
 "metadata": {
  "kernelspec": {
   "display_name": "Python 3 (ipykernel)",
   "language": "python",
   "name": "python3"
  },
  "language_info": {
   "codemirror_mode": {
    "name": "ipython",
    "version": 3
   },
   "file_extension": ".py",
   "mimetype": "text/x-python",
   "name": "python",
   "nbconvert_exporter": "python",
   "pygments_lexer": "ipython3",
   "version": "3.10.10"
  }
 },
 "nbformat": 4,
 "nbformat_minor": 5
}
