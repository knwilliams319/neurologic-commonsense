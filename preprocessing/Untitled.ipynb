{
 "cells": [
  {
   "cell_type": "code",
   "execution_count": 1,
   "id": "93a48733-6e48-4c5e-8dcf-2f0519cf907a",
   "metadata": {},
   "outputs": [],
   "source": [
    "import json\n",
    "import pandas as pd\n",
    "from keyword_extractor import KeywordExtractor\n",
    "\n",
    "DEV_PATH   = \"../data/dev_rand_split.jsonl\"\n",
    "TEST_PATH  = \"../data/test_rand_split_no_answers.jsonl\"\n",
    "TRAIN_PATH = \"../data/train_rand_split.jsonl\""
   ]
  },
  {
   "cell_type": "code",
   "execution_count": 2,
   "id": "684ef2dd-a3b0-4639-815e-cbeb4c7a10b3",
   "metadata": {},
   "outputs": [],
   "source": [
    "def process_raw_data(path: str, split: str, extractor_type: str = \"keybert\", limit:int = 5):\n",
    "    \n",
    "    # create dataframe from json lines\n",
    "    with open(path) as f:\n",
    "        lines = f.read().splitlines()\n",
    "\n",
    "    df = pd.DataFrame(lines)\n",
    "    df.columns = ['json_element']\n",
    "    df['json_element'].apply(json.loads)\n",
    "    df = pd.json_normalize(df['json_element'].apply(json.loads))\n",
    "\n",
    "    # extract keywords\n",
    "    ke = KeywordExtractor(extractor_type, limit=5)\n",
    "    df[\"keywords\"] = ke.extract_all(list(df[\"question.stem\"]))\n",
    "    \n",
    "    # save as csv file\n",
    "    df.to_csv(f\"../data/{split}split\")"
   ]
  },
  {
   "cell_type": "code",
   "execution_count": 4,
   "id": "23407235-bc57-4403-ba40-05ddee84ef7b",
   "metadata": {},
   "outputs": [],
   "source": [
    "process_raw_data(TRAIN_PATH, \"TRAIN\")"
   ]
  },
  {
   "cell_type": "code",
   "execution_count": 16,
   "id": "39230c38-22b6-4345-a5cf-690e6d8577de",
   "metadata": {},
   "outputs": [],
   "source": []
  },
  {
   "cell_type": "code",
   "execution_count": null,
   "id": "1bc21b9b-b50d-4132-825b-94fa3adaf842",
   "metadata": {},
   "outputs": [],
   "source": []
  }
 ],
 "metadata": {
  "kernelspec": {
   "display_name": "Python 3 (ipykernel)",
   "language": "python",
   "name": "python3"
  },
  "language_info": {
   "codemirror_mode": {
    "name": "ipython",
    "version": 3
   },
   "file_extension": ".py",
   "mimetype": "text/x-python",
   "name": "python",
   "nbconvert_exporter": "python",
   "pygments_lexer": "ipython3",
   "version": "3.8.11"
  }
 },
 "nbformat": 4,
 "nbformat_minor": 5
}
