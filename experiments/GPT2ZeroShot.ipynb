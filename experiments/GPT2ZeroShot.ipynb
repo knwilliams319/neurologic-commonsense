{
 "cells": [
  {
   "attachments": {},
   "cell_type": "markdown",
   "metadata": {},
   "source": [
    "# GPT2 Zero-Shot CommonsenseQA Experiment\n",
    "**Last Edited On: 5/30/2023**<br>\n",
    "**Last Edited By: Kyle Williams**"
   ]
  },
  {
   "attachments": {},
   "cell_type": "markdown",
   "metadata": {},
   "source": [
    "**Motivation:** This file contains a scrpt for finding the zero-shot performance of GPT2 on CommonsenseQA. Our performance metric is accuracy, where the model's generated answer will be considered correct if it contains the correct multiple-choice answer. Because we don't have the test set labels, we will be reporting the accuracy on the development set instead. "
   ]
  },
  {
   "attachments": {},
   "cell_type": "markdown",
   "metadata": {},
   "source": [
    "**Resources:**\n",
    "- [A GPT2 Fine-tuning tutorial](https://colab.research.google.com/drive/1QIMbIbkDo7TAiNB2xoI5L53dnmNbYV6h#scrollTo=NKGBoVwuhM4H)\n",
    "- [Fine-tuning GPT2 tricks](https://github.com/falloutdurham/beginners-pytorch-deep-learning/blob/master/chapter9/Chapter9.5.ipynb)"
   ]
  },
  {
   "cell_type": "code",
   "execution_count": 12,
   "metadata": {},
   "outputs": [],
   "source": [
    "'''\n",
    "Necessary Imports\n",
    "\n",
    "TODO: I added all imports from the resource above, but we aren't fine-tuning in this notebook, so some can be deleted\n",
    "'''\n",
    "import pickle\n",
    "import torch \n",
    "import os\n",
    "\n",
    "from torch.utils.data import Dataset, DataLoader\n",
    "from transformers import GPT2Tokenizer, GPT2LMHeadModel"
   ]
  },
  {
   "cell_type": "code",
   "execution_count": 13,
   "metadata": {},
   "outputs": [
    {
     "name": "stdout",
     "output_type": "stream",
     "text": [
      "cpu\n"
     ]
    }
   ],
   "source": [
    "'''\n",
    "Load GPT2 Model and Corresponding Tokenizer. \n",
    "Then save them to the device for GPU computation. \n",
    "\n",
    "TODO: These should be the same tokenizer used to create the files in /data/tensor_splits. For now, I'm just \n",
    "      copy-pasting the code, but there's gotta be a less error-prone way to make changes if needed. \n",
    "'''\n",
    "tokenizer = GPT2Tokenizer.from_pretrained('gpt2-medium')\n",
    "tokenizer.pad_token = tokenizer.eos_token\n",
    "tokenizer.pad_token_id = tokenizer.eos_token_id\n",
    "tokenizer.padding_side='left'\n",
    "model = GPT2LMHeadModel.from_pretrained('gpt2-medium',\n",
    "                                        pad_token_id=tokenizer.eos_token_id)\n",
    "\n",
    "device = \"cuda\" if torch.cuda.is_available() else \"cpu\"\n",
    "model = model.to(device)\n",
    "print(device)"
   ]
  },
  {
   "cell_type": "code",
   "execution_count": 14,
   "metadata": {},
   "outputs": [],
   "source": [
    "'''\n",
    "Define Dataset Object, then create a Dataloader Object to Feed Prompts into the Model. \n",
    "'''\n",
    "class CommonsenseDataset(Dataset):\n",
    "    def __init__(self, train_split=True):\n",
    "        # Load prompt and answer dumps for the inputted split\n",
    "        cwd = os.getcwd()\n",
    "        parent_path = '/'.join(cwd.split('/')[0:-1]) # removes the innermost folder (currently /experiments)\n",
    "        prompt_file = 'TRAINsplit_prompts.pkl' if train_split else 'DEVsplit_prompts.pkl'\n",
    "        answer_file = 'TRAINsplit_answers.pkl' if train_split else 'DEVsplit_answers.pkl'\n",
    "\n",
    "        prompts = None\n",
    "        with open(parent_path + f'/data/prompt_splits/{prompt_file}', 'rb') as file:\n",
    "            prompts = pickle.load(file)\n",
    "        with open(parent_path + f'/data/prompt_splits/{answer_file}', 'rb') as file:\n",
    "            self.answers = pickle.load(file)\n",
    "        if not prompts or not self.answers:\n",
    "            raise IOError(\"Could not read one of the necessary pickle files!\")\n",
    "\n",
    "        # Tokenize input prompts and retrieve attention_masks list\n",
    "        outputs = tokenizer(prompts, padding='longest', truncation=True, return_tensors='pt')\n",
    "        self.input_ids = outputs['input_ids']\n",
    "        self.attn_masks = outputs['attention_mask']\n",
    "        \n",
    "    def __len__(self):\n",
    "        return len(self.answers)\n",
    "    \n",
    "    def __getitem__(self, idx):\n",
    "        return self.input_ids[idx], self.attn_masks[idx], self.answers[idx]\n",
    "\n",
    "dev_loader = DataLoader(CommonsenseDataset(train_split=False), batch_size=1, shuffle=False)"
   ]
  },
  {
   "cell_type": "code",
   "execution_count": 15,
   "metadata": {},
   "outputs": [],
   "source": [
    "'''\n",
    "GPT2 Generation Hyperparameters\n",
    "'''\n",
    "constrained = False\n",
    "num_beams = 5\n",
    "num_return_sequences = 1\n",
    "no_repeat_ngram_size = 1\n",
    "remove_invalid_values = True\n",
    "do_sample = True\n",
    "max_new_tokens = 10"
   ]
  },
  {
   "cell_type": "code",
   "execution_count": 16,
   "metadata": {},
   "outputs": [
    {
     "name": "stdout",
     "output_type": "stream",
     "text": [
      "0.009009009009009009\n"
     ]
    }
   ],
   "source": [
    "'''\n",
    "Feed the prompts into GPT2. Generate answers using beam search to give the most straightforward\n",
    "comparison between the base model and the neurologic-enhanced one. \n",
    "'''\n",
    "model_answers = [\"\"] * len(dev_loader)\n",
    "correct = 0\n",
    "\n",
    "model.eval()\n",
    "with torch.no_grad():\n",
    "    for i, (input_tokens, attention_mask, answer) in enumerate(dev_loader):\n",
    "        if constrained:\n",
    "            # TODO: implement constrained generation here\n",
    "            '''\n",
    "            tokenized_constraints = self.tokenizer(concepts, add_special_tokens=False).input_ids\n",
    "            constraints = DisjunctiveConstraint(list(tokenized_constraints))\n",
    "            output = self.model.generate(\n",
    "                    inputs[\"input_ids\"],\n",
    "                    constraints=[constraints],\n",
    "                    max_new_tokens=self.max_gen_len,\n",
    "                    num_beams=self.beams,\n",
    "                    num_return_sequences=self.num_returns,\n",
    "                    no_repeat_ngram_size=1,\n",
    "                    remove_invalid_values=True)\n",
    "            '''\n",
    "            pass\n",
    "        else:\n",
    "            input_tokens = input_tokens.to(device)\n",
    "            attention_mask = attention_mask.to(device)\n",
    "            answer = answer[0] # for some reason, answer is initially a tuple with one element\n",
    "            \n",
    "            output = model.generate(input_tokens,\n",
    "                                    attention_mask=attention_mask,\n",
    "                                    num_beams = num_beams,\n",
    "                                    num_return_sequences = num_return_sequences,\n",
    "                                    no_repeat_ngram_size = no_repeat_ngram_size,\n",
    "                                    remove_invalid_values = remove_invalid_values,\n",
    "                                    max_new_tokens = max_new_tokens,\n",
    "                                    do_sample = do_sample)\n",
    "            model_answers[i] = tokenizer.decode(output[0], skip_special_tokens=True)\n",
    "            \n",
    "            if model_answers[i].count(answer) > 1: correct += 1 # Answer will always be there at least once (when the options are listed)\n",
    "\n",
    "print(correct / len(dev_loader))"
   ]
  }
 ],
 "metadata": {
  "kernelspec": {
   "display_name": "sslm",
   "language": "python",
   "name": "python3"
  },
  "language_info": {
   "codemirror_mode": {
    "name": "ipython",
    "version": 3
   },
   "file_extension": ".py",
   "mimetype": "text/x-python",
   "name": "python",
   "nbconvert_exporter": "python",
   "pygments_lexer": "ipython3",
   "version": "3.9.16"
  },
  "orig_nbformat": 4
 },
 "nbformat": 4,
 "nbformat_minor": 2
}
